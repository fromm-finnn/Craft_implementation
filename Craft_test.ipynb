{
  "nbformat": 4,
  "nbformat_minor": 0,
  "metadata": {
    "colab": {
      "private_outputs": true,
      "provenance": [],
      "collapsed_sections": [],
      "mount_file_id": "1f73lEqXr4a439h-NgBHYF5ZKPAGLXMGr",
      "authorship_tag": "ABX9TyNbFmoJsaU115N/GU8OPxYF",
      "include_colab_link": true
    },
    "kernelspec": {
      "name": "python3",
      "display_name": "Python 3"
    },
    "language_info": {
      "name": "python"
    },
    "accelerator": "GPU"
  },
  "cells": [
    {
      "cell_type": "markdown",
      "metadata": {
        "id": "view-in-github",
        "colab_type": "text"
      },
      "source": [
        "<a href=\"https://colab.research.google.com/github/fromm-finnn/Craft_test/blob/main/Craft_test.ipynb\" target=\"_parent\"><img src=\"https://colab.research.google.com/assets/colab-badge.svg\" alt=\"Open In Colab\"/></a>"
      ]
    },
    {
      "cell_type": "code",
      "execution_count": null,
      "metadata": {
        "id": "VTnbry7w5Fo8"
      },
      "outputs": [],
      "source": [
        "import os\n",
        "from os.path import exists, join, basename, splitext\n",
        "\n",
        "git_repo_url = 'https://github.com/clovaai/CRAFT-pytorch.git'\n",
        "project_name = splitext(basename(git_repo_url))[0]\n",
        "if not exists(project_name):\n",
        "  # clone and install\n",
        "  !git clone -q {git_repo_url}\n",
        "  #!cd {project_name} && pip install -q -r requirements.txt\n",
        "  \n",
        "import sys\n",
        "sys.path.append(project_name)\n",
        "import time\n",
        "import matplotlib\n",
        "import matplotlib.pylab as plt\n",
        "plt.rcParams[\"axes.grid\"] = False"
      ]
    },
    {
      "cell_type": "code",
      "source": [
        "def download_from_google_drive(file_id, file_name):\n",
        "  # download a file from the Google Drive link\n",
        "  !rm -f ./cookie\n",
        "  !curl -c ./cookie -s -L \"https://drive.google.com/uc?export=download&id={file_id}\" > /dev/null\n",
        "  confirm_text = !awk '/download/ {print $NF}' ./cookie\n",
        "  confirm_text = confirm_text[0]\n",
        "  !curl -Lb ./cookie \"https://drive.google.com/uc?export=download&confirm={confirm_text}&id={file_id}\" -o {file_name}\n",
        "  \n",
        "\n",
        "pretrained_model = 'craft_mlt_25k.pth'\n",
        "if not exists(pretrained_model):\n",
        "  # download the pretrained model\n",
        "  !wget -q -O {pretrained_model} 'https://drive.google.com/uc?authuser=0&id=1Jk4eGD7crsqCCg9C9VjCLkMN3ze8kutZ&export=download'"
      ],
      "metadata": {
        "id": "ytAxsvlz6drx"
      },
      "execution_count": null,
      "outputs": []
    },
    {
      "cell_type": "code",
      "source": [
        "IMAGE_URL = \"https://i.ibb.co/q18vL3V/SR2-1.png\" #https://ko.imgbb.com/ 에서 이미지 url 생성\n",
        "\n",
        "image_file_name = basename(IMAGE_URL) #url에서 파일 이름 지정\n",
        "download_dir = '/content/images' #다운로드할 파일 이름\n",
        "!mkdir -p {download_dir} && rm -rf {download_dir}/* \n",
        "!wget -q -P {download_dir} {IMAGE_URL}\n",
        "  \n",
        "\n",
        "plt.imshow(matplotlib.image.imread(join(download_dir, image_file_name)))"
      ],
      "metadata": {
        "id": "S763DaaI6rOq"
      },
      "execution_count": null,
      "outputs": []
    },
    {
      "cell_type": "code",
      "source": [
        "!cd {project_name} && python test.py --trained_model=../{pretrained_model} --test_folder=/content/images #지정한 폴더로 이동 후 크래프트 학습 모델 실행"
      ],
      "metadata": {
        "id": "eMA0AA8W57_w"
      },
      "execution_count": null,
      "outputs": []
    },
    {
      "cell_type": "code",
      "source": [
        "plt.figure(figsize=(16, 15)) # 사이즈 지정\n",
        "plt.imshow(matplotlib.image.imread(join(project_name, 'result','res_'+image_file_name))) "
      ],
      "metadata": {
        "id": "S9GrjK-n82jd"
      },
      "execution_count": null,
      "outputs": []
    }
  ]
}